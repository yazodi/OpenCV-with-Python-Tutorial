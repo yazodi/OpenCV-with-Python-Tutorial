{
 "cells": [
  {
   "cell_type": "markdown",
   "id": "8326763d-175b-46e5-ac08-b2305ec3cd9e",
   "metadata": {},
   "source": [
    " Aman Kharwal'ın 31 Ağustos 2020 tarihli \"OpenCV with Python Tutorial\" başlıklı makalesi, Python ile OpenCV kullanarak görüntü işleme ve bilgisayarla görme (computer vision) konularına giriş niteliğindedir. Makale, temel kavramlardan başlayarak, canlı video akışı işleme, renk uzayı dönüşümleri, görüntü işleme işlemleri ve kullanıcı arayüzü oluşturma gibi konuları örneklerle ele alır."
   ]
  },
  {
   "cell_type": "markdown",
   "id": "da0d1ff9-1120-4019-8c8f-e28f0bf6bcc2",
   "metadata": {},
   "source": [
    "## OpenCV Nedir?"
   ]
  },
  {
   "cell_type": "markdown",
   "id": "b65c546f-e3fc-495b-83fd-d45806d07208",
   "metadata": {},
   "source": [
    "OpenCV (Open Source Computer Vision Library), 1999 yılında geliştirilmeye başlanan açık kaynaklı bir bilgisayarla görme kütüphanesidir. Python, C ve C++ gibi dilleri destekler ve görüntü işleme, nesne tanıma, yüz algılama gibi birçok alanda kullanılır."
   ]
  },
  {
   "cell_type": "markdown",
   "id": "c0a95448-bb27-4bf0-8f71-e4ac0a00ed58",
   "metadata": {},
   "source": [
    "## Canlı Video Akışı İşleme\n",
    "Makale, bilgisayar kamerasından canlı video akışı alıp ekranda gösteren basit bir Python betiği sunar:"
   ]
  },
  {
   "cell_type": "code",
   "execution_count": 1,
   "id": "f8a18de4-4de1-4166-be7a-ce2ad9a9db5b",
   "metadata": {},
   "outputs": [],
   "source": [
    "import cv2\n",
    "\n",
    "cap = cv2.VideoCapture(0)\n",
    "while(True):\n",
    "    ret, frame = cap.read()\n",
    "    cv2.imshow('frame', frame)\n",
    "    if cv2.waitKey(1) & 0xFF == ord('q'):\n",
    "        break\n",
    "cap.release()\n",
    "cv2.destroyAllWindows()"
   ]
  },
  {
   "cell_type": "markdown",
   "id": "40030e9e-c49e-40cd-bbe9-ac15c580e6cc",
   "metadata": {},
   "source": [
    "Bu kod, kameradan alınan görüntüyü gerçek zamanlı olarak bir pencere içinde gösterir ve 'q' tuşuna basıldığında işlemi sonlandırır."
   ]
  },
  {
   "cell_type": "markdown",
   "id": "318cc2a1-77b3-44f1-9843-c01117bca840",
   "metadata": {},
   "source": [
    "##  Renk Uzayı Dönüşümleri\n",
    "OpenCV, farklı renk uzayları arasında dönüşüm yapma imkanı sunar. Örneğin, RGB'den gri tonlamaya dönüşüm:"
   ]
  },
  {
   "cell_type": "code",
   "execution_count": null,
   "id": "774cd342-f500-4504-8488-523953ab5345",
   "metadata": {},
   "outputs": [],
   "source": [
    "gray = cv2.cvtColor(frame, cv2.COLOR_RGB2GRAY)\n"
   ]
  },
  {
   "cell_type": "markdown",
   "id": "2bcdb373-746e-4134-952e-484bf0ac7a32",
   "metadata": {},
   "source": [
    "Bu dönüşüm, görüntü işlemede sıkça kullanılır, özellikle kenar algılama ve nesne tanıma gibi uygulamalarda."
   ]
  },
  {
   "cell_type": "markdown",
   "id": "05f1a02e-1475-437a-a8b7-5bbba33c40ab",
   "metadata": {},
   "source": [
    " ## Görüntü İşleme İşlemleri\n",
    "Makale, gri tonlamaya dönüştürme, gürültü giderme, adaptif eşikleme ve görüntüyü yansıtma gibi işlemleri ardışık olarak uygulayan bir örnek sunar:"
   ]
  },
  {
   "cell_type": "code",
   "execution_count": null,
   "id": "3744792d-733d-4310-9e01-eb5667e488dc",
   "metadata": {},
   "outputs": [],
   "source": [
    "gray = cv2.cvtColor(frame, cv2.COLOR_BGR2GRAY)\n",
    "denoised = cv2.fastNlMeansDenoising(gray, h=3, templateWindowSize=7, searchWindowSize=21)\n",
    "thresholded = cv2.adaptiveThreshold(denoised, 255, cv2.ADAPTIVE_THRESH_GAUSSIAN_C, cv2.THRESH_BINARY, 115, 1)\n",
    "mirrored = cv2.flip(thresholded, 1)\n"
   ]
  },
  {
   "cell_type": "markdown",
   "id": "8bde4bc8-24e5-421c-8002-fa1e1ac8933a",
   "metadata": {},
   "source": [
    "Bu işlemler, görüntüdeki gürültüyü azaltır, belirli özellikleri vurgular ve görüntüyü yatayda yansıtarak farklı perspektifler elde etmeye yardımcı olur."
   ]
  },
  {
   "cell_type": "markdown",
   "id": "976b2c56-1674-4f51-b46e-4729c6212b19",
   "metadata": {},
   "source": [
    "## Kullanıcı Arayüzü Oluşturma"
   ]
  },
  {
   "cell_type": "markdown",
   "id": "4f4b3ef8-e293-46a1-89a2-0ccbeaf620e1",
   "metadata": {},
   "source": [
    "OpenCV, basit kullanıcı arayüzleri oluşturmak için araçlar sunar. Bu, prototip geliştirme sürecinde faydalıdır. Örneğin, bir pencere içinde görüntü gösterme ve kullanıcı etkileşimlerini işleme gibi işlemler kolaylıkla gerçekleştirilebilir."
   ]
  },
  {
   "cell_type": "markdown",
   "id": "e18da87c-0ad0-4c29-b6dd-9f777cef02f6",
   "metadata": {},
   "source": [
    "## Makine Öğrenmesi ile OpenCV"
   ]
  },
  {
   "cell_type": "markdown",
   "id": "00512692-f7f8-42db-8713-7ad619854ecb",
   "metadata": {},
   "source": [
    "Makale, OpenCV'nin makine öğrenmesi uygulamalarıyla entegrasyonuna da değinir. Örneğin, nesne algılama gibi görevlerde OpenCV, makine öğrenmesi modelleriyle birlikte kullanılarak daha akıllı ve otomatik sistemler geliştirilebilir."
   ]
  },
  {
   "cell_type": "markdown",
   "id": "5e52d195-feb1-438f-a58c-0289bf6ea286",
   "metadata": {},
   "source": [
    "[https://amanxai.com/2020/08/31/opencv-with-python-tutorial/](https://amanxai.com/2020/08/31/opencv-with-python-tutorial/)"
   ]
  },
  {
   "cell_type": "code",
   "execution_count": null,
   "id": "650898a9-b8e2-418b-aced-e3b3c5139d34",
   "metadata": {},
   "outputs": [],
   "source": []
  }
 ],
 "metadata": {
  "kernelspec": {
   "display_name": "Python 3 (ipykernel)",
   "language": "python",
   "name": "python3"
  },
  "language_info": {
   "codemirror_mode": {
    "name": "ipython",
    "version": 3
   },
   "file_extension": ".py",
   "mimetype": "text/x-python",
   "name": "python",
   "nbconvert_exporter": "python",
   "pygments_lexer": "ipython3",
   "version": "3.12.9"
  }
 },
 "nbformat": 4,
 "nbformat_minor": 5
}
